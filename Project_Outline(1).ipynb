{
 "cells": [
  {
   "cell_type": "markdown",
   "id": "3deef234-3e92-4931-a837-4cee84f2574e",
   "metadata": {},
   "source": [
    "# Project Break Down\n",
    "## Question:\n",
    "The question I'm asking for this project is the UFS Prototype 7 Reforecast data accurate in showing cyclone events in and around the Southeast Region of the US. \n",
    "\n",
    "## Background Info\n",
    "\n",
    "## Why:\n",
    "If the model is able to reforecast these events, then future forecasting could better predict when and where significant events like tropical cyclones can occur.  \n",
    "\n",
    "## How:\n",
    "### Data Used:\n",
    "* Data from UFS: precipitation, surface temperature, and 500 hPa geopotential height daily data for August, September, October from 2011 to 2016. \n",
    "* Data from International Best Track Archive: hurricane tracks, wind speeds, and pressures for tropical cyclones within the lat/long bounds of UFS data during the specified months and years. \n",
    "* Data from Physical Sciences Laboratory: Hurricane Activity Index = monthly total of storms per month per year, Accumulated Cyclone Energy Index = monthly total of cyclone energy per month per year. \n",
    "\n",
    "### Analysis Approach:\n",
    "* show contour plots of UFS data\n",
    "* show hurricane tracks, and plots of wind speed and pressures\n",
    "* show plots of hurricanes and UFS data on the corresponding days, see if any features align with the hurricane path. if not, why?\n",
    "* aggregating calculation (mean)\n",
    "* calculate climatology by month/year. for year climatology, looking for trends in increase/decrease in variables over the years (expecting ts to warm up over time, more intense precipitation and z500 etc)\n",
    "* calculate anomalies\n",
    "* composites with ha, ace, and tna\n",
    "* comparison plot using tna with indication of statistical significance\n",
    "* linear regression with tna\n",
    "* temporal correlation coefficient if i have time"
   ]
  },
  {
   "cell_type": "markdown",
   "id": "9902aa3e-78bf-4432-9ed0-a32ff8c539b1",
   "metadata": {},
   "source": [
    "# Strongest Storms Per Season: Month, Duration, Strength, Category\n",
    "\n",
    "## 2011\n",
    "\n",
    "## 2012\n",
    "\n",
    "## 2013\n",
    "\n",
    "## 2014\n",
    "\n",
    "## 2015\n",
    "\n",
    "## 2016"
   ]
  },
  {
   "cell_type": "markdown",
   "id": "df3229db-25b1-42d7-9338-4bdb13e63d9f",
   "metadata": {},
   "source": [
    "put the z500, ts, and precip contours together with the hurricane tracks"
   ]
  },
  {
   "cell_type": "markdown",
   "id": "b786a8fc-7a3f-4b2e-9765-3f1f6efc59aa",
   "metadata": {
    "tags": []
   },
   "source": [
    "# Data: What Are We Working With?\n",
    "\n",
    "## Gridded Data:\n",
    "### UFS Plots with the corresponding tropical cyclones\n",
    "![1](emily_contours.png)\n",
    "![2](irene_contours.png)\n",
    "![3](lee_contours.png)\n",
    "### tropical storm wind speeds, pressures, category plots\n",
    "\n",
    "## Indices:\n",
    "### Hurricane Activity Index\n",
    "### Accumulated Cyclone Energy Index\n",
    "### Tropical North Atlantic Index\n",
    "\n",
    "# Analysis Approach: \n",
    "## What Do We Want to Know: Is the UFS Reforecast data useful for reforecasting hurricanes?\n",
    "## How Do We Want to Investigate This:\n",
    "* calculate climatology by month/year \n",
    "    * for year climatology, looking for trends in increase/decrease in variables over the years   (expecting ts to warm up over time, more intense precipitation and z500 etc)\n",
    "* calculate anomalies\n",
    "* use HA index to determine highest months of TC activity\n",
    "    * HA composites\n",
    "* use ACE index to determine months of strongest TCs\n",
    "    * ACE composites    \n",
    "* use TNA index to determine correspondence of SST anomalies with TCs (like, the actual TC data, do composites of that with TNA index) (maybe? TC data is 3 hourly, but TNA is monthly)\n",
    "    * TNA composites\n",
    "* use TNA index to determine correspondence of SST anomalies with precipitation anomalies, z500 anomalies, and ts anomalies\n",
    "    * TNA composites\n",
    "* correlations and comparison plots with statistical significance\n",
    "    * HA, ACE, TNA correlations\n",
    "* linear regression\n",
    "* temporal correlation coefficient (maybe?)\n",
    "* see if the later reforecasts are less accurate (visual comparisons, correlations, etc) (maybe?)\n",
    "* compare the tropical cyclone pressures to the UFS z500 levels (maybe?)\n",
    "\n",
    "\n",
    "# Results: What Did We Find?\n",
    "\n",
    "# Summary: What Did We Learn?\n",
    "\n",
    "# Conda Environment\n",
    "\n",
    "# References"
   ]
  },
  {
   "cell_type": "code",
   "execution_count": null,
   "id": "ce0fa84b-e78c-4dcc-a507-09a0da23a73c",
   "metadata": {},
   "outputs": [],
   "source": []
  }
 ],
 "metadata": {
  "kernelspec": {
   "display_name": "clim_data",
   "language": "python",
   "name": "clim_data"
  },
  "language_info": {
   "codemirror_mode": {
    "name": "ipython",
    "version": 3
   },
   "file_extension": ".py",
   "mimetype": "text/x-python",
   "name": "python",
   "nbconvert_exporter": "python",
   "pygments_lexer": "ipython3",
   "version": "3.10.4"
  }
 },
 "nbformat": 4,
 "nbformat_minor": 5
}
